{
 "cells": [
  {
   "cell_type": "code",
   "execution_count": 1,
   "metadata": {},
   "outputs": [],
   "source": [
    "\n",
    "from azuresearch.skills import Skill\n",
    "from azuresearch.analyzers import PredefinedAnalyzer,predefined_analyzers\n",
    "from azuresearch.indexer import Indexer\n",
    "from azuresearch.skills.predefined.cognitive_skills import OCRSkill,EntityRecognitionSkill,KeyPhraseExtractionSkill "
   ]
  },
  {
   "cell_type": "code",
   "execution_count": 8,
   "metadata": {},
   "outputs": [
    {
     "ename": "Exception",
     "evalue": "Error posting datasources. result: <Response [400]>",
     "output_type": "error",
     "traceback": [
      "\u001b[1;31m---------------------------------------------------------------------------\u001b[0m",
      "\u001b[1;31mException\u001b[0m                                 Traceback (most recent call last)",
      "\u001b[1;32m<ipython-input-8-1a5963416aa1>\u001b[0m in \u001b[0;36m<module>\u001b[1;34m()\u001b[0m\n\u001b[0;32m      4\u001b[0m                      \u001b[0mconnection_string\u001b[0m\u001b[1;33m=\u001b[0m\u001b[1;34m\"DefaultEndpointsProtocol=https;AccountName=omsearchblob;AccountKey=slzR1Wbm4W5/mPzQkI6MBcU98dEWjrgPTw/bshs4MNocGS4FD0M5QbcS/zwkpeUrRAb59shhevinphfP8+JDQQ==;EndpointSuffix=core.windows.net\"\u001b[0m\u001b[1;33m\u001b[0m\u001b[0m\n\u001b[0;32m      5\u001b[0m )\n\u001b[1;32m----> 6\u001b[1;33m \u001b[0mmyfiles\u001b[0m\u001b[1;33m.\u001b[0m\u001b[0mcreate\u001b[0m\u001b[1;33m(\u001b[0m\u001b[1;33m)\u001b[0m\u001b[1;33m\u001b[0m\u001b[0m\n\u001b[0m",
      "\u001b[1;32mc:\\projects\\questionanswering\\python-azure-search\\azuresearch\\base_api_call.py\u001b[0m in \u001b[0;36mcreate\u001b[1;34m(self)\u001b[0m\n\u001b[0;32m     31\u001b[0m         \u001b[1;32mif\u001b[0m \u001b[0mresult\u001b[0m\u001b[1;33m.\u001b[0m\u001b[0mstatus_code\u001b[0m \u001b[1;33m!=\u001b[0m \u001b[0mrequests\u001b[0m\u001b[1;33m.\u001b[0m\u001b[0mcodes\u001b[0m\u001b[1;33m.\u001b[0m\u001b[0mcreated\u001b[0m\u001b[1;33m:\u001b[0m\u001b[1;33m\u001b[0m\u001b[0m\n\u001b[0;32m     32\u001b[0m             raise Exception(\n\u001b[1;32m---> 33\u001b[1;33m                 \"Error posting {service_name}. result: {result}\".format(service_name=self.service_name, result=result))\n\u001b[0m\u001b[0;32m     34\u001b[0m \u001b[1;33m\u001b[0m\u001b[0m\n\u001b[0;32m     35\u001b[0m     \u001b[1;32mdef\u001b[0m \u001b[0mget\u001b[0m\u001b[1;33m(\u001b[0m\u001b[0mself\u001b[0m\u001b[1;33m)\u001b[0m\u001b[1;33m:\u001b[0m\u001b[1;33m\u001b[0m\u001b[0m\n",
      "\u001b[1;31mException\u001b[0m: Error posting datasources. result: <Response [400]>"
     ]
    }
   ],
   "source": [
    "## Define source\n",
    "from azuresearch.data_source import DataSource\n",
    "myfiles = DataSource(name=\"myblob\",container_name=\"demoblob\",\n",
    "                     connection_string=\"DefaultEndpointsProtocol=https;AccountName=omsearchblob;AccountKey=slzR1Wbm4W5/mPzQkI6MBcU98dEWjrgPTw/bshs4MNocGS4FD0M5QbcS/zwkpeUrRAb59shhevinphfP8+JDQQ==;EndpointSuffix=core.windows.net\"\n",
    ")\n",
    "myfiles.create()"
   ]
  },
  {
   "cell_type": "code",
   "execution_count": 7,
   "metadata": {},
   "outputs": [
    {
     "ename": "NameError",
     "evalue": "name 'StringField' is not defined",
     "output_type": "error",
     "traceback": [
      "\u001b[1;31m---------------------------------------------------------------------------\u001b[0m",
      "\u001b[1;31mNameError\u001b[0m                                 Traceback (most recent call last)",
      "\u001b[1;32m<ipython-input-7-46c9c111c48b>\u001b[0m in \u001b[0;36m<module>\u001b[1;34m()\u001b[0m\n\u001b[0;32m      1\u001b[0m \u001b[1;31m## Define index\u001b[0m\u001b[1;33m\u001b[0m\u001b[1;33m\u001b[0m\u001b[0m\n\u001b[0;32m      2\u001b[0m \u001b[0mindex_name\u001b[0m \u001b[1;33m=\u001b[0m \u001b[1;34m\"myIndex\"\u001b[0m\u001b[1;33m\u001b[0m\u001b[0m\n\u001b[1;32m----> 3\u001b[1;33m \u001b[0mid_field\u001b[0m \u001b[1;33m=\u001b[0m \u001b[0mStringField\u001b[0m\u001b[1;33m(\u001b[0m\u001b[0mname\u001b[0m\u001b[1;33m=\u001b[0m\u001b[1;34m'id'\u001b[0m\u001b[1;33m,\u001b[0m\u001b[0mkey\u001b[0m\u001b[1;33m=\u001b[0m\u001b[1;32mTrue\u001b[0m\u001b[1;33m,\u001b[0m\u001b[0mfilterable\u001b[0m\u001b[1;33m=\u001b[0m\u001b[1;32mFalse\u001b[0m\u001b[1;33m)\u001b[0m\u001b[1;33m\u001b[0m\u001b[0m\n\u001b[0m\u001b[0;32m      4\u001b[0m \u001b[0morg_field\u001b[0m \u001b[1;33m=\u001b[0m \u001b[0mCollectionString\u001b[0m\u001b[1;33m(\u001b[0m\u001b[0mname\u001b[0m \u001b[1;33m=\u001b[0m \u001b[1;34m'org'\u001b[0m\u001b[1;33m)\u001b[0m\u001b[1;33m\u001b[0m\u001b[0m\n\u001b[0;32m      5\u001b[0m \u001b[0morg_desc_field\u001b[0m \u001b[1;33m=\u001b[0m \u001b[0mStringField\u001b[0m\u001b[1;33m(\u001b[0m\u001b[0mname\u001b[0m \u001b[1;33m=\u001b[0m \u001b[1;34m'orgDesc'\u001b[0m\u001b[1;33m)\u001b[0m\u001b[1;33m\u001b[0m\u001b[0m\n",
      "\u001b[1;31mNameError\u001b[0m: name 'StringField' is not defined"
     ]
    }
   ],
   "source": [
    "## Define index\n",
    "index_name = \"myIndex\"\n",
    "id_field = StringField(name='id',key=True,filterable=False)\n",
    "org_field = CollectionString(name = 'org')\n",
    "org_desc_field = StringField(name = 'orgDesc')\n",
    "\n",
    "analyzer = PredefinedAnalyzer(index_name=index_name,name=\"myAnalyzer\",type = predefined_analyzers['pattern'])\n",
    "\n",
    "index = Index(fields = [id_field,org_field,org_desc_field],analyzers = [analyzer])\n",
    "index.create()\n",
    "\n"
   ]
  },
  {
   "cell_type": "code",
   "execution_count": null,
   "metadata": {},
   "outputs": [],
   "source": [
    "## Define skillset\n",
    "ocr_output = SkillOutput(\"ocr_output\",\"ocr_output\")\n",
    "org_output = SkillOutput(\"org_field\")\n",
    "ocr_skill = OCRSkill(inputs = [SkillInput(\"blob\")], outputs = [ocr_output])\n",
    "entity_rec_skill = EntityRecognitionSkill(inputs = [ocr_output],output = [org_output])\n",
    "my_skillset = Skillset([ocr_skill,entity_rec_skill])\n",
    "my_skillset.submit()\n",
    "\n",
    "## Define indexer\n",
    "my_indexer = Indexer(\"my_indexer\",data)\n",
    "\n",
    "ocrskill = Ocr"
   ]
  },
  {
   "cell_type": "code",
   "execution_count": 6,
   "metadata": {},
   "outputs": [
    {
     "data": {
      "text/plain": [
       "{'keyword': None,\n",
       " 'pattern': '#Microsoft.Azure.Search.PatternAnalyzer',\n",
       " 'simple': None,\n",
       " 'standard': '#Microsoft.Azure.Search.StandardAnalyzer',\n",
       " 'standardasciifolding.lucene': None,\n",
       " 'stop': '#Microsoft.Azure.Search.StopAnalyzer',\n",
       " 'whitespace': None}"
      ]
     },
     "execution_count": 6,
     "metadata": {},
     "output_type": "execute_result"
    }
   ],
   "source": [
    "query = \"Microsoft\"\n",
    "\n",
    "result = my_index.query(query)\n",
    "print(result)"
   ]
  }
 ],
 "metadata": {
  "kernelspec": {
   "display_name": "Python 3",
   "language": "python",
   "name": "python3"
  },
  "language_info": {
   "codemirror_mode": {
    "name": "ipython",
    "version": 3
   },
   "file_extension": ".py",
   "mimetype": "text/x-python",
   "name": "python",
   "nbconvert_exporter": "python",
   "pygments_lexer": "ipython3",
   "version": "3.6.5"
  }
 },
 "nbformat": 4,
 "nbformat_minor": 2
}
